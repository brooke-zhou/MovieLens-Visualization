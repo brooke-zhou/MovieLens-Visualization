{
 "cells": [
  {
   "cell_type": "code",
   "execution_count": 50,
   "metadata": {},
   "outputs": [],
   "source": [
    "import implicit\n",
    "import pandas as pd\n",
    "from scipy.sparse import csr_matrix\n",
    "import numpy as np\n",
    "from statistics import mean"
   ]
  },
  {
   "cell_type": "code",
   "execution_count": 284,
   "metadata": {},
   "outputs": [],
   "source": [
    "def implicitModel(movieLensDataTrainPath='../data/train_clean.txt', movieLensDataTestPath='../data/test_clean.txt'):\n",
    "    dfTrain = pd.read_csv(movieLensDataTrainPath, sep=\"\\t\", header=None)\n",
    "    dfTrain.columns = [\"User Id\", \"Movie Id\", \"Rating\"]\n",
    "\n",
    "    dfTest = pd.read_csv(movieLensDataTestPath, sep=\"\\t\", header=None)\n",
    "    dfTest.columns = [\"User Id\", \"Movie Id\", \"Rating\"]\n",
    "\n",
    "    test = dfTest.to_numpy()\n",
    "    train1 = dfTrain.to_numpy()\n",
    "    \n",
    "    \n",
    "    # initialize a model\n",
    "    model = implicit.als.AlternatingLeastSquares(factors=25, iterations=400, regularization=0.01)\n",
    "    #print(train)\n",
    "    M = max(max(train1[:, 0]), max(test[:, 0])).astype(int)\n",
    "    N = max(max(train1[:, 1]), max(test[:, 1])).astype(int)\n",
    "    \n",
    "    newTrains = np.zeros((M, N))\n",
    "    #print(len(newTrains))\n",
    "    #print(len(newTrains[0]))\n",
    "    for y in train1:\n",
    "        i, j, yij = y\n",
    "        i = i - 1\n",
    "        j = j - 1\n",
    "        #print(newTrains[i])\n",
    "        newTrains[i][j] = yij\n",
    "    newTrains = np.array(newTrains)\n",
    "    train = csr_matrix(newTrains)\n",
    "    # train the model on a sparse matrix of item/user/confidence weights\n",
    "    model.fit(train)\n",
    "\n",
    "    #print(model.item_factors)\n",
    "    #print(len(model.item_factors))\n",
    "    #print(model.user_factors)\n",
    "    #print(len(model.user_factors))\n",
    "    U = model.item_factors\n",
    "    V = model.user_factors\n",
    "    U = np.float64(U)\n",
    "    V = np.float64(V)\n",
    "    print(\"Insample, outofsample\")\n",
    "    print(get_err2(U, V, train1))\n",
    "    print(get_err2(U, V, test))\n",
    "    return model.item_factors, model.user_factors\n",
    "    # recommend items for a user\n",
    "    #user_items = item_user_data.T.tocsr()\n",
    "    #recommendations = model.recommend(userid, user_items)\n",
    "\n",
    "    # find related items\n",
    "    #related = model.similar_items(itemid)"
   ]
  },
  {
   "cell_type": "code",
   "execution_count": 216,
   "metadata": {},
   "outputs": [],
   "source": [
    "def get_err2(U, V, Y, reg=0.0):\n",
    "    \"\"\"\n",
    "    Takes as input a matrix Y of triples (i, j, Y_ij) where i is the index of a user,\n",
    "    j is the index of a movie, and Y_ij is user i's rating of movie j and\n",
    "    user/movie matrices U and V.\n",
    "\n",
    "    Returns the mean regularized squared-error of predictions made by\n",
    "    estimating Y_{ij} as the dot product of the ith row of U and the jth column of V^T.\n",
    "    \"\"\"\n",
    "    totalLength = len(Y)\n",
    "\n",
    "    sumOfSqs = 0\n",
    "    #meanYs = mean(Y[:, 2])\n",
    "    for y in Y:\n",
    "        #print(y)\n",
    "        i = int(y[0])\n",
    "        j = int(y[1])\n",
    "        yij = y[2]\n",
    "        i = i - 1\n",
    "        j = j - 1\n",
    "        sumOfSqs = sumOfSqs + ((yij - np.dot(U[i], V[j])) ** 2)\n",
    "\n",
    "    normSum = (np.linalg.norm(U, ord='fro') ** 2 + np.linalg.norm(V, ord='fro') ** 2)\n",
    "    return ((reg * normSum) + sumOfSqs) / (2 * totalLength)\n"
   ]
  },
  {
   "cell_type": "code",
   "execution_count": 266,
   "metadata": {},
   "outputs": [],
   "source": [
    "def Vtrain(M, N, K, eta, reg, Y, max_epochs=300):\n",
    "    model = implicit.als.AlternatingLeastSquares(factors=25, iterations=400, regularization=0.01)\n",
    "    #print(train)\n",
    "    \n",
    "    \n",
    "    \n",
    "    newTrains = np.array(Y)\n",
    "    train = csr_matrix(newTrains)\n",
    "    print(train.shape)\n",
    "    # train the model on a sparse matrix of item/user/confidence weights\n",
    "    model.fit(train)\n",
    "\n",
    "    print(model.item_factors.shape)\n",
    "    #print(len(model.item_factors))\n",
    "    print(model.user_factors.shape)\n",
    "    #print(len(model.user_factors))\n",
    "    return model.item_factors, model.user_factors"
   ]
  },
  {
   "cell_type": "code",
   "execution_count": 218,
   "metadata": {},
   "outputs": [],
   "source": [
    "def SVDofV(oldV):\n",
    "    M = len(oldV)  # users\n",
    "    N = len(oldV[0])  # movies\n",
    "    print(\"Factorizing with \", M, \" users, \", N, \" movies.\")\n",
    "    # Ks = [10, 20, 30, 50, 100]\n",
    "    #print(\"oldV\")\n",
    "    #print(oldV)\n",
    "    K = 20\n",
    "    reg = 0.0\n",
    "    eta = 0.03  # learning rate\n",
    "    # Use to compute Ein and Eout\n",
    "    A, B = Vtrain(M, N, K, eta, reg, oldV, max_epochs=300)\n",
    "    #print(err)\n",
    "    return A, B"
   ]
  },
  {
   "cell_type": "code",
   "execution_count": 271,
   "metadata": {},
   "outputs": [],
   "source": [
    "def tryThis():\n",
    "    U, V = implicitModel()\n",
    "    #U = np.float64(U)\n",
    "    #V = np.float64(V)\n",
    "    U = U.T\n",
    "    V = V.T\n",
    "    \n",
    "    dfTest = pd.read_csv('../data/test_clean.txt', sep=\"\\t\", header=None)\n",
    "    dfTest.columns = [\"User Id\", \"Movie Id\", \"Rating\"]\n",
    "    \n",
    "    Y_test = dfTest.to_numpy()\n",
    "   \n",
    "    \n",
    "    #U = np.array(U)\n",
    "    #V = np.array(V)\n",
    "    for i in range(len(V)):\n",
    "        V[i] = V[i] - mean(V[i])\n",
    "    for i in range(len(U)):\n",
    "        U[i] = U[i] - mean(U[i])\n",
    "    # SVD of V!\n",
    "    \n",
    "    A, B = SVDofV(V)\n",
    "    A = A.T\n",
    "    # Use the first 2 cols for work\n",
    "    Asub = A[:, :2]\n",
    "    \n",
    "    \n",
    "    projU = np.dot(Asub.T, U)\n",
    "    projV = np.dot(Asub.T, V)\n",
    "  \n",
    "    # Rescale dimensions to compress the image\n",
    "    for i in range(len(projV)):\n",
    "        projV[i] = projV[i] / max(projV[i])\n",
    "    for i in range(len(projU)):\n",
    "        projU[i] = projU[i] / max(projU[i])\n",
    "    dfTest = pd.read_csv('../data/test_clean.txt', sep=\"\\t\", header=None)\n",
    "    dfTest.columns = [\"User Id\", \"Movie Id\", \"Rating\"]\n",
    "    \n",
    "    Y_test = dfTest.to_numpy()\n",
    "    print(get_err2(U.T, V.T, Y_test))\n",
    "    print(get_err2(projU.T, projV.T, Y_test))\n",
    "    return projU, projV"
   ]
  },
  {
   "cell_type": "code",
   "execution_count": 214,
   "metadata": {
    "scrolled": true
   },
   "outputs": [
    {
     "data": {
      "application/vnd.jupyter.widget-view+json": {
       "model_id": "b36c70a13d9f4490ae7f5d65c5065ccb",
       "version_major": 2,
       "version_minor": 0
      },
      "text/plain": [
       "HBox(children=(IntProgress(value=0, max=400), HTML(value='')))"
      ]
     },
     "metadata": {},
     "output_type": "display_data"
    },
    {
     "name": "stdout",
     "output_type": "stream",
     "text": [
      "\n",
      "Factorizing with  25  users,  1682  movies.\n",
      "(25, 1682)\n"
     ]
    },
    {
     "data": {
      "application/vnd.jupyter.widget-view+json": {
       "model_id": "14bf74efe2004c99bd517d22655a3da5",
       "version_major": 2,
       "version_minor": 0
      },
      "text/plain": [
       "HBox(children=(IntProgress(value=0, max=400), HTML(value='')))"
      ]
     },
     "metadata": {},
     "output_type": "display_data"
    },
    {
     "name": "stdout",
     "output_type": "stream",
     "text": [
      "\n",
      "(25, 25)\n",
      "(1682, 25)\n",
      "5.986126027193461\n",
      "6.762353965648446\n"
     ]
    },
    {
     "data": {
      "text/plain": [
       "(array([[ 0.05268528, -0.01596341, -0.00939974, ...,  0.09213511,\n",
       "          0.06527893, -0.31026629],\n",
       "        [ 0.10317169, -0.05010444, -0.1843411 , ..., -0.01632538,\n",
       "         -0.22638909,  0.55292897]]),\n",
       " array([[ 0.02320117, -0.11842777, -0.06163454, ..., -0.00236728,\n",
       "          0.08143574, -0.0357781 ],\n",
       "        [ 0.70187777,  0.61530984,  0.3870219 , ..., -0.12506976,\n",
       "         -0.11006051, -0.11378403]]))"
      ]
     },
     "execution_count": 214,
     "metadata": {},
     "output_type": "execute_result"
    }
   ],
   "source": [
    "tryThis()"
   ]
  },
  {
   "cell_type": "code",
   "execution_count": 220,
   "metadata": {},
   "outputs": [
    {
     "data": {
      "application/vnd.jupyter.widget-view+json": {
       "model_id": "9b92c487c0214bef9e69e7d8ed896643",
       "version_major": 2,
       "version_minor": 0
      },
      "text/plain": [
       "HBox(children=(IntProgress(value=0, max=400), HTML(value='')))"
      ]
     },
     "metadata": {},
     "output_type": "display_data"
    },
    {
     "name": "stdout",
     "output_type": "stream",
     "text": [
      "\n",
      "Factorizing with  10  users,  1682  movies.\n",
      "(10, 1682)\n"
     ]
    },
    {
     "data": {
      "application/vnd.jupyter.widget-view+json": {
       "model_id": "68e8ffd59d3942538e87fa84ec8fdc2e",
       "version_major": 2,
       "version_minor": 0
      },
      "text/plain": [
       "HBox(children=(IntProgress(value=0, max=400), HTML(value='')))"
      ]
     },
     "metadata": {},
     "output_type": "display_data"
    },
    {
     "name": "stdout",
     "output_type": "stream",
     "text": [
      "\n",
      "(10, 10)\n",
      "(1682, 10)\n",
      "6.02367142745021\n",
      "6.710804176143008\n"
     ]
    },
    {
     "data": {
      "text/plain": [
       "(array([[-0.18773026,  0.02722864, -0.61324116, ...,  0.41145416,\n",
       "          0.04937325,  0.2802474 ],\n",
       "        [ 0.20595127,  0.1905625 ,  0.00386952, ...,  0.20186408,\n",
       "         -0.45943988,  0.13527139]]),\n",
       " array([[ 0.27812148,  0.10102885, -0.23861826, ...,  0.17245929,\n",
       "          0.17798938,  0.17160375],\n",
       "        [ 0.42012342,  0.02981057,  0.06573513, ...,  0.08290199,\n",
       "          0.08062281,  0.09543647]]))"
      ]
     },
     "execution_count": 220,
     "metadata": {},
     "output_type": "execute_result"
    }
   ],
   "source": [
    "# try factors = 10 - 30\n",
    "# factor = 10\n",
    "tryThis()"
   ]
  },
  {
   "cell_type": "code",
   "execution_count": 224,
   "metadata": {},
   "outputs": [
    {
     "data": {
      "application/vnd.jupyter.widget-view+json": {
       "model_id": "dcc35020508d43849ab72cf77ef53476",
       "version_major": 2,
       "version_minor": 0
      },
      "text/plain": [
       "HBox(children=(IntProgress(value=0, max=400), HTML(value='')))"
      ]
     },
     "metadata": {},
     "output_type": "display_data"
    },
    {
     "name": "stdout",
     "output_type": "stream",
     "text": [
      "\n",
      "Factorizing with  20  users,  1682  movies.\n",
      "(20, 1682)\n"
     ]
    },
    {
     "data": {
      "application/vnd.jupyter.widget-view+json": {
       "model_id": "577387d62bae4c14affe2d628f553ea3",
       "version_major": 2,
       "version_minor": 0
      },
      "text/plain": [
       "HBox(children=(IntProgress(value=0, max=400), HTML(value='')))"
      ]
     },
     "metadata": {},
     "output_type": "display_data"
    },
    {
     "name": "stdout",
     "output_type": "stream",
     "text": [
      "\n",
      "(20, 20)\n",
      "(1682, 20)\n",
      "5.973503195163266\n",
      "6.683976377432382\n"
     ]
    },
    {
     "data": {
      "text/plain": [
       "(array([[-0.34212088, -0.05473271, -0.01763584, ..., -0.41762962,\n",
       "         -0.12816006,  0.28655833],\n",
       "        [ 0.20344307, -0.00435654, -0.27315505, ...,  0.02260609,\n",
       "         -0.25944322, -0.05902345]]),\n",
       " array([[ 0.71028516, -0.2020249 ,  0.0390325 , ..., -0.17089333,\n",
       "         -0.18243513, -0.1698089 ],\n",
       "        [ 0.91943676,  0.39897596,  0.0896046 , ..., -0.20103413,\n",
       "         -0.20880517, -0.1826126 ]]))"
      ]
     },
     "execution_count": 224,
     "metadata": {},
     "output_type": "execute_result"
    }
   ],
   "source": [
    "# factor = 20\n",
    "tryThis()"
   ]
  },
  {
   "cell_type": "code",
   "execution_count": 227,
   "metadata": {},
   "outputs": [
    {
     "data": {
      "application/vnd.jupyter.widget-view+json": {
       "model_id": "eb9c998fb6ac44dca61f24e04fb3075c",
       "version_major": 2,
       "version_minor": 0
      },
      "text/plain": [
       "HBox(children=(IntProgress(value=0, max=400), HTML(value='')))"
      ]
     },
     "metadata": {},
     "output_type": "display_data"
    },
    {
     "name": "stdout",
     "output_type": "stream",
     "text": [
      "\n",
      "Factorizing with  30  users,  1682  movies.\n",
      "(30, 1682)\n"
     ]
    },
    {
     "data": {
      "application/vnd.jupyter.widget-view+json": {
       "model_id": "4512dd634bb7404d99fb7d51d64760e7",
       "version_major": 2,
       "version_minor": 0
      },
      "text/plain": [
       "HBox(children=(IntProgress(value=0, max=400), HTML(value='')))"
      ]
     },
     "metadata": {},
     "output_type": "display_data"
    },
    {
     "name": "stdout",
     "output_type": "stream",
     "text": [
      "\n",
      "(30, 30)\n",
      "(1682, 30)\n",
      "6.01786048579628\n",
      "6.882924867683018\n"
     ]
    },
    {
     "data": {
      "text/plain": [
       "(array([[-0.13976212,  0.08158357, -0.07820875, ...,  0.43147188,\n",
       "         -0.04931598, -0.38308099],\n",
       "        [-0.04860368,  0.18700423, -0.02066827, ..., -0.06466594,\n",
       "         -0.69803174,  0.42407291]]),\n",
       " array([[-0.18404948, -0.22185305, -0.28803219, ...,  0.15989776,\n",
       "          0.15109004,  0.10136365],\n",
       "        [-2.70986514, -0.01427051,  0.21092751, ...,  0.44964241,\n",
       "          0.47512116,  0.43501239]]))"
      ]
     },
     "execution_count": 227,
     "metadata": {},
     "output_type": "execute_result"
    }
   ],
   "source": [
    "tryThis()"
   ]
  },
  {
   "cell_type": "code",
   "execution_count": 230,
   "metadata": {},
   "outputs": [
    {
     "data": {
      "application/vnd.jupyter.widget-view+json": {
       "model_id": "4d31ade8f57b46189496acf52ca74c32",
       "version_major": 2,
       "version_minor": 0
      },
      "text/plain": [
       "HBox(children=(IntProgress(value=0), HTML(value='')))"
      ]
     },
     "metadata": {},
     "output_type": "display_data"
    },
    {
     "name": "stdout",
     "output_type": "stream",
     "text": [
      "\n",
      "Factorizing with  20  users,  1682  movies.\n",
      "(20, 1682)\n"
     ]
    },
    {
     "data": {
      "application/vnd.jupyter.widget-view+json": {
       "model_id": "a0145d02699c4dfbbab2039935d96055",
       "version_major": 2,
       "version_minor": 0
      },
      "text/plain": [
       "HBox(children=(IntProgress(value=0), HTML(value='')))"
      ]
     },
     "metadata": {},
     "output_type": "display_data"
    },
    {
     "name": "stdout",
     "output_type": "stream",
     "text": [
      "\n",
      "(20, 20)\n",
      "(1682, 20)\n",
      "5.972868458912404\n",
      "6.790715096096255\n"
     ]
    },
    {
     "data": {
      "text/plain": [
       "(array([[-0.38496393, -0.21907763,  0.1031503 , ..., -0.09697943,\n",
       "          0.18586857, -0.4902487 ],\n",
       "        [ 0.49185578, -0.20401817, -0.17707963, ...,  0.30011438,\n",
       "         -0.13499003, -0.29155747]]),\n",
       " array([[ 0.0039801 , -0.33779609,  0.13614662, ...,  0.04222423,\n",
       "          0.05711166,  0.07634828],\n",
       "        [-0.62891121, -0.25017245,  0.32843423, ...,  0.1360753 ,\n",
       "          0.11710342,  0.15779714]]))"
      ]
     },
     "execution_count": 230,
     "metadata": {},
     "output_type": "execute_result"
    }
   ],
   "source": [
    "# iterations 100 - 400\n",
    "# iterations: 100\n",
    "tryThis()"
   ]
  },
  {
   "cell_type": "code",
   "execution_count": 233,
   "metadata": {},
   "outputs": [
    {
     "data": {
      "application/vnd.jupyter.widget-view+json": {
       "model_id": "9d2dba12c2f8422984e3356c3cb9e123",
       "version_major": 2,
       "version_minor": 0
      },
      "text/plain": [
       "HBox(children=(IntProgress(value=0, max=200), HTML(value='')))"
      ]
     },
     "metadata": {},
     "output_type": "display_data"
    },
    {
     "name": "stdout",
     "output_type": "stream",
     "text": [
      "\n",
      "Factorizing with  20  users,  1682  movies.\n",
      "(20, 1682)\n"
     ]
    },
    {
     "data": {
      "application/vnd.jupyter.widget-view+json": {
       "model_id": "dcbdd0783f644cf48365d114dc1bb201",
       "version_major": 2,
       "version_minor": 0
      },
      "text/plain": [
       "HBox(children=(IntProgress(value=0, max=200), HTML(value='')))"
      ]
     },
     "metadata": {},
     "output_type": "display_data"
    },
    {
     "name": "stdout",
     "output_type": "stream",
     "text": [
      "\n",
      "(20, 20)\n",
      "(1682, 20)\n",
      "5.973474659833587\n",
      "6.787159449866254\n"
     ]
    },
    {
     "data": {
      "text/plain": [
       "(array([[ 1.16180626e-01,  1.34208351e-01,  1.22407386e-02, ...,\n",
       "         -3.08678152e-01,  1.15044143e-04,  7.87919329e-02],\n",
       "        [-1.73709396e-02, -3.06361248e-02, -9.50952631e-02, ...,\n",
       "         -8.72808711e-02, -7.20160317e-02, -1.28628194e-01]]),\n",
       " array([[ 0.44847868, -0.28895148,  0.19644355, ..., -0.16918855,\n",
       "         -0.17517802, -0.15643743],\n",
       "        [-0.40218023, -0.66541018, -0.1825704 , ...,  0.13507914,\n",
       "          0.11260007,  0.1052276 ]]))"
      ]
     },
     "execution_count": 233,
     "metadata": {},
     "output_type": "execute_result"
    }
   ],
   "source": [
    "# iterations:200\n",
    "tryThis()"
   ]
  },
  {
   "cell_type": "code",
   "execution_count": 237,
   "metadata": {},
   "outputs": [
    {
     "data": {
      "application/vnd.jupyter.widget-view+json": {
       "model_id": "66880a6bc50246278ebf950cad8b0438",
       "version_major": 2,
       "version_minor": 0
      },
      "text/plain": [
       "HBox(children=(IntProgress(value=0, max=300), HTML(value='')))"
      ]
     },
     "metadata": {},
     "output_type": "display_data"
    },
    {
     "name": "stdout",
     "output_type": "stream",
     "text": [
      "\n",
      "Factorizing with  20  users,  1682  movies.\n",
      "(20, 1682)\n"
     ]
    },
    {
     "data": {
      "application/vnd.jupyter.widget-view+json": {
       "model_id": "8d1f59f244314fdcaea544a7ea13d46c",
       "version_major": 2,
       "version_minor": 0
      },
      "text/plain": [
       "HBox(children=(IntProgress(value=0, max=300), HTML(value='')))"
      ]
     },
     "metadata": {},
     "output_type": "display_data"
    },
    {
     "name": "stdout",
     "output_type": "stream",
     "text": [
      "\n",
      "(20, 20)\n",
      "(1682, 20)\n",
      "5.973451519872026\n",
      "6.736709330483526\n"
     ]
    },
    {
     "data": {
      "text/plain": [
       "(array([[ 0.45116178,  0.38645561, -0.14566257, ...,  0.10805086,\n",
       "         -0.32010844, -0.0573154 ],\n",
       "        [ 0.10142944, -0.00461617,  0.24076497, ..., -0.07723325,\n",
       "          0.04280729,  0.47136875]]),\n",
       " array([[ 0.62688051,  0.25374831,  0.230187  , ..., -0.08271771,\n",
       "         -0.09922818, -0.07676293],\n",
       "        [ 0.42525583,  0.31339303,  0.48834504, ..., -0.09443604,\n",
       "         -0.06273913, -0.07405505]]))"
      ]
     },
     "execution_count": 237,
     "metadata": {},
     "output_type": "execute_result"
    }
   ],
   "source": [
    "# iterations: 300\n",
    "tryThis()"
   ]
  },
  {
   "cell_type": "code",
   "execution_count": 240,
   "metadata": {},
   "outputs": [
    {
     "data": {
      "application/vnd.jupyter.widget-view+json": {
       "model_id": "2aa2597106a4424f8a71bac73daeabbb",
       "version_major": 2,
       "version_minor": 0
      },
      "text/plain": [
       "HBox(children=(IntProgress(value=0, max=400), HTML(value='')))"
      ]
     },
     "metadata": {},
     "output_type": "display_data"
    },
    {
     "name": "stdout",
     "output_type": "stream",
     "text": [
      "\n",
      "Factorizing with  20  users,  1682  movies.\n",
      "(20, 1682)\n"
     ]
    },
    {
     "data": {
      "application/vnd.jupyter.widget-view+json": {
       "model_id": "1d9f6b9adaff49d492d12ec421c583d2",
       "version_major": 2,
       "version_minor": 0
      },
      "text/plain": [
       "HBox(children=(IntProgress(value=0, max=400), HTML(value='')))"
      ]
     },
     "metadata": {},
     "output_type": "display_data"
    },
    {
     "name": "stdout",
     "output_type": "stream",
     "text": [
      "\n",
      "(20, 20)\n",
      "(1682, 20)\n",
      "5.9734925479193395\n",
      "6.283465322642221\n"
     ]
    },
    {
     "data": {
      "text/plain": [
       "(array([[-0.22504067,  0.37916534,  0.02319564, ...,  0.11974443,\n",
       "         -0.17384361,  0.39342908],\n",
       "        [-0.43477646, -0.16778532,  0.05711982, ..., -0.11001323,\n",
       "         -0.09593267, -0.46196447]]),\n",
       " array([[-1.53275005, -0.56527865, -0.44065113, ...,  0.56765532,\n",
       "          0.46550347,  0.49697101],\n",
       "        [-0.99376215, -1.49326465, -0.11199443, ...,  0.19913505,\n",
       "          0.14469228,  0.18373081]]))"
      ]
     },
     "execution_count": 240,
     "metadata": {},
     "output_type": "execute_result"
    }
   ],
   "source": [
    "# iterations: 400\n",
    "tryThis()"
   ]
  },
  {
   "cell_type": "code",
   "execution_count": 243,
   "metadata": {},
   "outputs": [
    {
     "data": {
      "application/vnd.jupyter.widget-view+json": {
       "model_id": "b151b31da3f948ac8a575d39da4a15c8",
       "version_major": 2,
       "version_minor": 0
      },
      "text/plain": [
       "HBox(children=(IntProgress(value=0, max=500), HTML(value='')))"
      ]
     },
     "metadata": {},
     "output_type": "display_data"
    },
    {
     "name": "stdout",
     "output_type": "stream",
     "text": [
      "\n",
      "Factorizing with  20  users,  1682  movies.\n",
      "(20, 1682)\n"
     ]
    },
    {
     "data": {
      "application/vnd.jupyter.widget-view+json": {
       "model_id": "b669ca9299564d278102f04c9cdfd6be",
       "version_major": 2,
       "version_minor": 0
      },
      "text/plain": [
       "HBox(children=(IntProgress(value=0, max=500), HTML(value='')))"
      ]
     },
     "metadata": {},
     "output_type": "display_data"
    },
    {
     "name": "stdout",
     "output_type": "stream",
     "text": [
      "\n",
      "(20, 20)\n",
      "(1682, 20)\n",
      "5.973499330592791\n",
      "6.7011427055624635\n"
     ]
    },
    {
     "data": {
      "text/plain": [
       "(array([[-0.32450772,  0.15831069,  0.38982431, ...,  0.06480249,\n",
       "          0.37984955, -0.37472679],\n",
       "        [ 0.00492199, -0.04634218, -0.13545356, ..., -0.07052355,\n",
       "         -0.18113828,  0.24322996]]),\n",
       " array([[ 0.05786028, -0.13702554, -0.17607546, ...,  0.08877518,\n",
       "          0.07285865,  0.05870955],\n",
       "        [ 0.58459888,  0.68518994, -0.33224843, ..., -0.02709495,\n",
       "         -0.04307124, -0.02770385]]))"
      ]
     },
     "execution_count": 243,
     "metadata": {},
     "output_type": "execute_result"
    }
   ],
   "source": [
    "# iterations: 500\n",
    "tryThis()"
   ]
  },
  {
   "cell_type": "code",
   "execution_count": 248,
   "metadata": {},
   "outputs": [
    {
     "data": {
      "application/vnd.jupyter.widget-view+json": {
       "model_id": "dfdd5da32a0e4be0843157e5928db4bc",
       "version_major": 2,
       "version_minor": 0
      },
      "text/plain": [
       "HBox(children=(IntProgress(value=0, max=400), HTML(value='')))"
      ]
     },
     "metadata": {},
     "output_type": "display_data"
    },
    {
     "name": "stdout",
     "output_type": "stream",
     "text": [
      "\n",
      "Factorizing with  20  users,  1682  movies.\n",
      "(20, 1682)\n"
     ]
    },
    {
     "data": {
      "application/vnd.jupyter.widget-view+json": {
       "model_id": "cd04dec255b84d029c1783f067c3b6d0",
       "version_major": 2,
       "version_minor": 0
      },
      "text/plain": [
       "HBox(children=(IntProgress(value=0, max=400), HTML(value='')))"
      ]
     },
     "metadata": {},
     "output_type": "display_data"
    },
    {
     "name": "stdout",
     "output_type": "stream",
     "text": [
      "\n",
      "(20, 20)\n",
      "(1682, 20)\n",
      "5.97352038703301\n",
      "6.519403336630566\n"
     ]
    },
    {
     "data": {
      "text/plain": [
       "(array([[ 0.29248027,  0.03343299, -0.27955791, ..., -0.19730645,\n",
       "          0.04024245,  0.18217228],\n",
       "        [ 0.37102111, -0.03236087, -0.0853858 , ..., -0.13162544,\n",
       "         -0.13891402,  0.17129119]]),\n",
       " array([[ 0.68332213,  0.1314203 ,  0.17966133, ..., -0.15454847,\n",
       "         -0.1477241 , -0.13972041],\n",
       "        [ 0.59034826,  0.15431865,  0.3578188 , ..., -0.20956752,\n",
       "         -0.20630329, -0.17779913]]))"
      ]
     },
     "execution_count": 248,
     "metadata": {},
     "output_type": "execute_result"
    }
   ],
   "source": [
    "# regularization 0\n",
    "tryThis()"
   ]
  },
  {
   "cell_type": "code",
   "execution_count": 253,
   "metadata": {},
   "outputs": [
    {
     "data": {
      "application/vnd.jupyter.widget-view+json": {
       "model_id": "827d8b79f3994d30b3dbb73acb9e2fbd",
       "version_major": 2,
       "version_minor": 0
      },
      "text/plain": [
       "HBox(children=(IntProgress(value=0, max=400), HTML(value='')))"
      ]
     },
     "metadata": {},
     "output_type": "display_data"
    },
    {
     "name": "stdout",
     "output_type": "stream",
     "text": [
      "\n",
      "Factorizing with  20  users,  1682  movies.\n",
      "(20, 1682)\n"
     ]
    },
    {
     "data": {
      "application/vnd.jupyter.widget-view+json": {
       "model_id": "27aae6ac127442f493b4e3f12954ec83",
       "version_major": 2,
       "version_minor": 0
      },
      "text/plain": [
       "HBox(children=(IntProgress(value=0, max=400), HTML(value='')))"
      ]
     },
     "metadata": {},
     "output_type": "display_data"
    },
    {
     "name": "stdout",
     "output_type": "stream",
     "text": [
      "\n",
      "(20, 20)\n",
      "(1682, 20)\n",
      "5.973487137713239\n",
      "6.668532934397548\n"
     ]
    },
    {
     "data": {
      "text/plain": [
       "(array([[ 0.29532711, -0.02029674, -0.14924882, ..., -0.2944268 ,\n",
       "         -0.08266219,  0.35367771],\n",
       "        [-0.36468868,  0.18091353, -0.08703954, ..., -0.02328216,\n",
       "         -0.05006783,  0.35031682]]),\n",
       " array([[ 0.01477682,  0.27860298, -0.14683453, ..., -0.18120656,\n",
       "         -0.18147622, -0.17812888],\n",
       "        [ 0.37168907,  0.08023991,  0.16457713, ..., -0.08502641,\n",
       "         -0.08027096, -0.09807211]]))"
      ]
     },
     "execution_count": 253,
     "metadata": {},
     "output_type": "execute_result"
    }
   ],
   "source": [
    "# regularization 0.01\n",
    "tryThis()"
   ]
  },
  {
   "cell_type": "code",
   "execution_count": 256,
   "metadata": {},
   "outputs": [
    {
     "data": {
      "application/vnd.jupyter.widget-view+json": {
       "model_id": "84c641df87974143b0f48c55d8a25ddb",
       "version_major": 2,
       "version_minor": 0
      },
      "text/plain": [
       "HBox(children=(IntProgress(value=0, max=400), HTML(value='')))"
      ]
     },
     "metadata": {},
     "output_type": "display_data"
    },
    {
     "name": "stdout",
     "output_type": "stream",
     "text": [
      "\n",
      "Factorizing with  20  users,  1682  movies.\n",
      "(20, 1682)\n"
     ]
    },
    {
     "data": {
      "application/vnd.jupyter.widget-view+json": {
       "model_id": "588b062d85074f9ca754f0a56b85f1b3",
       "version_major": 2,
       "version_minor": 0
      },
      "text/plain": [
       "HBox(children=(IntProgress(value=0, max=400), HTML(value='')))"
      ]
     },
     "metadata": {},
     "output_type": "display_data"
    },
    {
     "name": "stdout",
     "output_type": "stream",
     "text": [
      "\n",
      "(20, 20)\n",
      "(1682, 20)\n",
      "5.973513044541484\n",
      "6.721587950794641\n"
     ]
    },
    {
     "data": {
      "text/plain": [
       "(array([[-0.20076363, -0.01408545, -0.37824274, ...,  0.44381576,\n",
       "         -0.05180978,  0.00281068],\n",
       "        [-0.30067288, -0.27350234, -0.13196942, ...,  0.21092256,\n",
       "         -0.12279952,  0.24304971]]),\n",
       " array([[ 0.84382896,  0.07667003,  0.11194925, ..., -0.04147984,\n",
       "         -0.04614309, -0.04888779],\n",
       "        [-0.87303388,  0.35951529, -0.11392617, ...,  0.3155167 ,\n",
       "          0.27981877,  0.28089811]]))"
      ]
     },
     "execution_count": 256,
     "metadata": {},
     "output_type": "execute_result"
    }
   ],
   "source": [
    "# regularization 0.02\n",
    "tryThis()"
   ]
  },
  {
   "cell_type": "code",
   "execution_count": 259,
   "metadata": {},
   "outputs": [
    {
     "data": {
      "application/vnd.jupyter.widget-view+json": {
       "model_id": "54c14ccca7234440a00faefd44b9a995",
       "version_major": 2,
       "version_minor": 0
      },
      "text/plain": [
       "HBox(children=(IntProgress(value=0, max=400), HTML(value='')))"
      ]
     },
     "metadata": {},
     "output_type": "display_data"
    },
    {
     "name": "stdout",
     "output_type": "stream",
     "text": [
      "\n",
      "Factorizing with  20  users,  1682  movies.\n",
      "(20, 1682)\n"
     ]
    },
    {
     "data": {
      "application/vnd.jupyter.widget-view+json": {
       "model_id": "aa1b528806df4d36bdb3ee9c8090fba5",
       "version_major": 2,
       "version_minor": 0
      },
      "text/plain": [
       "HBox(children=(IntProgress(value=0, max=400), HTML(value='')))"
      ]
     },
     "metadata": {},
     "output_type": "display_data"
    },
    {
     "name": "stdout",
     "output_type": "stream",
     "text": [
      "\n",
      "(20, 20)\n",
      "(1682, 20)\n",
      "5.973566527775447\n",
      "6.7050490608003965\n"
     ]
    },
    {
     "data": {
      "text/plain": [
       "(array([[ 0.20164737, -0.04043921, -0.15172862, ...,  0.27690511,\n",
       "         -0.1594858 , -0.30149305],\n",
       "        [-0.51342166,  0.07018362,  0.14884264, ...,  0.0429057 ,\n",
       "          0.02676919,  0.34776087]]),\n",
       " array([[ 0.56404248,  0.28774096,  0.04800291, ..., -0.0822675 ,\n",
       "         -0.06097277, -0.07162179],\n",
       "        [-1.39234628,  0.49090086, -1.07015688, ...,  0.33987097,\n",
       "          0.31976139,  0.31173988]]))"
      ]
     },
     "execution_count": 259,
     "metadata": {},
     "output_type": "execute_result"
    }
   ],
   "source": [
    "# regularization 0.05\n",
    "tryThis()"
   ]
  },
  {
   "cell_type": "code",
   "execution_count": 262,
   "metadata": {},
   "outputs": [
    {
     "data": {
      "application/vnd.jupyter.widget-view+json": {
       "model_id": "d5184b8c45444516bc407e5a049a1d9b",
       "version_major": 2,
       "version_minor": 0
      },
      "text/plain": [
       "HBox(children=(IntProgress(value=0, max=400), HTML(value='')))"
      ]
     },
     "metadata": {},
     "output_type": "display_data"
    },
    {
     "name": "stdout",
     "output_type": "stream",
     "text": [
      "\n",
      "Factorizing with  20  users,  1682  movies.\n",
      "(20, 1682)\n"
     ]
    },
    {
     "data": {
      "application/vnd.jupyter.widget-view+json": {
       "model_id": "320081736ef744fe835f2362a232bf99",
       "version_major": 2,
       "version_minor": 0
      },
      "text/plain": [
       "HBox(children=(IntProgress(value=0, max=400), HTML(value='')))"
      ]
     },
     "metadata": {},
     "output_type": "display_data"
    },
    {
     "name": "stdout",
     "output_type": "stream",
     "text": [
      "\n",
      "(20, 20)\n",
      "(1682, 20)\n",
      "5.973869039037238\n",
      "6.804373491099524\n"
     ]
    },
    {
     "data": {
      "text/plain": [
       "(array([[ 0.15716904, -0.20166257,  0.16806437, ..., -0.04462776,\n",
       "         -0.08706374, -0.06883067],\n",
       "        [ 0.12440249, -0.15395602,  0.21830658, ..., -0.29955412,\n",
       "         -0.04255784,  0.45278841]]),\n",
       " array([[ 0.60494486,  0.1286197 ,  0.30265511, ..., -0.15047205,\n",
       "         -0.15530692, -0.15178372],\n",
       "        [ 0.15663008,  0.2206094 ,  0.10353355, ..., -0.08279333,\n",
       "         -0.08853967, -0.0796932 ]]))"
      ]
     },
     "execution_count": 262,
     "metadata": {},
     "output_type": "execute_result"
    }
   ],
   "source": [
    "# regularization 0.1\n",
    "tryThis()"
   ]
  },
  {
   "cell_type": "code",
   "execution_count": 267,
   "metadata": {},
   "outputs": [
    {
     "data": {
      "application/vnd.jupyter.widget-view+json": {
       "model_id": "187961199c544588b681bb3bebcb2eba",
       "version_major": 2,
       "version_minor": 0
      },
      "text/plain": [
       "HBox(children=(IntProgress(value=0, max=400), HTML(value='')))"
      ]
     },
     "metadata": {},
     "output_type": "display_data"
    },
    {
     "name": "stdout",
     "output_type": "stream",
     "text": [
      "\n",
      "Factorizing with  25  users,  1682  movies.\n",
      "(25, 1682)\n"
     ]
    },
    {
     "data": {
      "application/vnd.jupyter.widget-view+json": {
       "model_id": "829d958d41fd4cf0be06fe7e6774b772",
       "version_major": 2,
       "version_minor": 0
      },
      "text/plain": [
       "HBox(children=(IntProgress(value=0, max=400), HTML(value='')))"
      ]
     },
     "metadata": {},
     "output_type": "display_data"
    },
    {
     "name": "stdout",
     "output_type": "stream",
     "text": [
      "\n",
      "(25, 25)\n",
      "(1682, 25)\n",
      "5.987086275813317\n",
      "6.598190361018987\n"
     ]
    },
    {
     "data": {
      "text/plain": [
       "(array([[-0.09437341,  0.41999004,  0.14257841, ..., -0.01348876,\n",
       "         -0.40054237,  0.55627769],\n",
       "        [ 0.05622261,  0.56165251, -0.06689724, ...,  0.08837381,\n",
       "          0.17068624,  0.02579182]]),\n",
       " array([[ 0.26627343,  0.15761198,  0.18690835, ...,  0.11153964,\n",
       "          0.09119824,  0.11119005],\n",
       "        [ 0.09457608,  0.00472292,  0.08013387, ..., -0.00575889,\n",
       "          0.0035797 , -0.02392721]]))"
      ]
     },
     "execution_count": 267,
     "metadata": {},
     "output_type": "execute_result"
    }
   ],
   "source": [
    "# factors = 25\n",
    "tryThis()"
   ]
  },
  {
   "cell_type": "code",
   "execution_count": 285,
   "metadata": {},
   "outputs": [
    {
     "data": {
      "application/vnd.jupyter.widget-view+json": {
       "model_id": "f8e52609752c4156bdf2dc62ed0dccfc",
       "version_major": 2,
       "version_minor": 0
      },
      "text/plain": [
       "HBox(children=(IntProgress(value=0, max=400), HTML(value='')))"
      ]
     },
     "metadata": {},
     "output_type": "display_data"
    },
    {
     "name": "stdout",
     "output_type": "stream",
     "text": [
      "\n",
      "Insample, outofsample\n",
      "4.637117367143353\n",
      "4.962381218804235\n",
      "Factorizing with  25  users,  1682  movies.\n",
      "(25, 1682)\n"
     ]
    },
    {
     "data": {
      "application/vnd.jupyter.widget-view+json": {
       "model_id": "a418e9ec74214f36954c625ef98e5629",
       "version_major": 2,
       "version_minor": 0
      },
      "text/plain": [
       "HBox(children=(IntProgress(value=0, max=400), HTML(value='')))"
      ]
     },
     "metadata": {},
     "output_type": "display_data"
    },
    {
     "name": "stdout",
     "output_type": "stream",
     "text": [
      "\n",
      "(25, 25)\n",
      "(1682, 25)\n",
      "5.98703244258325\n",
      "6.748159214734561\n"
     ]
    },
    {
     "data": {
      "text/plain": [
       "(array([[-0.0685673 ,  0.18518588,  0.0167694 , ..., -0.11315601,\n",
       "          0.0894184 ,  0.0339749 ],\n",
       "        [ 0.05526666,  0.12772968, -0.00080178, ..., -0.11363699,\n",
       "         -0.23556785, -0.20131168]]),\n",
       " array([[-1.55254431, -0.63647678, -0.59828789, ...,  0.17141748,\n",
       "          0.19126394,  0.16369444],\n",
       "        [-0.92706849, -0.08865029, -0.08549678, ...,  0.08191924,\n",
       "          0.07359059,  0.06361702]]))"
      ]
     },
     "execution_count": 285,
     "metadata": {},
     "output_type": "execute_result"
    }
   ],
   "source": [
    "tryThis()"
   ]
  },
  {
   "cell_type": "code",
   "execution_count": null,
   "metadata": {},
   "outputs": [],
   "source": []
  }
 ],
 "metadata": {
  "kernelspec": {
   "display_name": "Python 3",
   "language": "python",
   "name": "python3"
  },
  "language_info": {
   "codemirror_mode": {
    "name": "ipython",
    "version": 3
   },
   "file_extension": ".py",
   "mimetype": "text/x-python",
   "name": "python",
   "nbconvert_exporter": "python",
   "pygments_lexer": "ipython3",
   "version": "3.7.4"
  }
 },
 "nbformat": 4,
 "nbformat_minor": 2
}
