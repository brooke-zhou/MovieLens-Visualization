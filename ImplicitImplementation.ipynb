{
 "cells": [
  {
   "cell_type": "code",
   "execution_count": 50,
   "metadata": {},
   "outputs": [],
   "source": [
    "import implicit\n",
    "import pandas as pd\n",
    "from scipy.sparse import csr_matrix\n",
    "import numpy as np\n",
    "from statistics import mean"
   ]
  },
  {
   "cell_type": "code",
   "execution_count": 134,
   "metadata": {},
   "outputs": [],
   "source": [
    "def implicitModel(movieLensDataTrainPath='../data/train_clean.txt', movieLensDataTestPath='../data/test_clean.txt'):\n",
    "    dfTrain = pd.read_csv(movieLensDataTrainPath, sep=\"\\t\", header=None)\n",
    "    dfTrain.columns = [\"User Id\", \"Movie Id\", \"Rating\"]\n",
    "\n",
    "    dfTest = pd.read_csv(movieLensDataTestPath, sep=\"\\t\", header=None)\n",
    "    dfTest.columns = [\"User Id\", \"Movie Id\", \"Rating\"]\n",
    "\n",
    "    test = dfTest.to_numpy()\n",
    "    train = dfTrain.to_numpy()\n",
    "    \n",
    "    # initialize a model\n",
    "    model = implicit.als.AlternatingLeastSquares(factors=20)\n",
    "    #print(train)\n",
    "    M = max(max(train[:, 0]), max(test[:, 0])).astype(int)\n",
    "    N = max(max(train[:, 1]), max(test[:, 1])).astype(int)\n",
    "    \n",
    "    newTrains = np.zeros((M, N))\n",
    "    #print(len(newTrains))\n",
    "    #print(len(newTrains[0]))\n",
    "    for y in train:\n",
    "        i, j, yij = y\n",
    "        i = i - 1\n",
    "        j = j - 1\n",
    "        #print(newTrains[i])\n",
    "        newTrains[i][j] = yij\n",
    "    newTrains = np.array(newTrains)\n",
    "    train = csr_matrix(newTrains)\n",
    "    # train the model on a sparse matrix of item/user/confidence weights\n",
    "    model.fit(train)\n",
    "\n",
    "    #print(model.item_factors)\n",
    "    #print(len(model.item_factors))\n",
    "    #print(model.user_factors)\n",
    "    #print(len(model.user_factors))\n",
    "    return model.item_factors, model.user_factors\n",
    "    # recommend items for a user\n",
    "    #user_items = item_user_data.T.tocsr()\n",
    "    #recommendations = model.recommend(userid, user_items)\n",
    "\n",
    "    # find related items\n",
    "    #related = model.similar_items(itemid)"
   ]
  },
  {
   "cell_type": "code",
   "execution_count": 135,
   "metadata": {},
   "outputs": [],
   "source": [
    "def get_err2(U, V, Y, reg=0.0):\n",
    "    \"\"\"\n",
    "    Takes as input a matrix Y of triples (i, j, Y_ij) where i is the index of a user,\n",
    "    j is the index of a movie, and Y_ij is user i's rating of movie j and\n",
    "    user/movie matrices U and V.\n",
    "\n",
    "    Returns the mean regularized squared-error of predictions made by\n",
    "    estimating Y_{ij} as the dot product of the ith row of U and the jth column of V^T.\n",
    "    \"\"\"\n",
    "    totalLength = len(Y)\n",
    "\n",
    "    sumOfSqs = 0\n",
    "    meanYs = mean(Y[:, 2])\n",
    "    for y in Y:\n",
    "        #print(y)\n",
    "        i = int(y[0])\n",
    "        j = int(y[1])\n",
    "        yij = y[2]\n",
    "        i = i - 1\n",
    "        j = j - 1\n",
    "        sumOfSqs = sumOfSqs + ((yij - meanYs - np.dot(U[i], V[j])) ** 2)\n",
    "\n",
    "    normSum = (np.linalg.norm(U, ord='fro') ** 2 + np.linalg.norm(V, ord='fro') ** 2)\n",
    "    return ((reg * normSum) + sumOfSqs) / (2 * totalLength)\n"
   ]
  },
  {
   "cell_type": "code",
   "execution_count": 136,
   "metadata": {},
   "outputs": [],
   "source": [
    "def Vtrain(M, N, K, eta, reg, Y, max_epochs=300):\n",
    "    model = implicit.als.AlternatingLeastSquares(factors=20)\n",
    "    #print(train)\n",
    "    \n",
    "    \n",
    "    \n",
    "    newTrains = np.array(Y)\n",
    "    train = csr_matrix(newTrains)\n",
    "    print(train.shape)\n",
    "    # train the model on a sparse matrix of item/user/confidence weights\n",
    "    model.fit(train)\n",
    "\n",
    "    print(model.item_factors.shape)\n",
    "    #print(len(model.item_factors))\n",
    "    print(model.user_factors.shape)\n",
    "    #print(len(model.user_factors))\n",
    "    return model.item_factors, model.user_factors"
   ]
  },
  {
   "cell_type": "code",
   "execution_count": 137,
   "metadata": {},
   "outputs": [],
   "source": [
    "def SVDofV(oldV):\n",
    "    M = len(oldV)  # users\n",
    "    N = len(oldV[0])  # movies\n",
    "    print(\"Factorizing with \", M, \" users, \", N, \" movies.\")\n",
    "    # Ks = [10, 20, 30, 50, 100]\n",
    "    #print(\"oldV\")\n",
    "    #print(oldV)\n",
    "    K = 20\n",
    "    reg = 0.0\n",
    "    eta = 0.03  # learning rate\n",
    "    # Use to compute Ein and Eout\n",
    "    A, B = Vtrain(M, N, K, eta, reg, oldV, max_epochs=300)\n",
    "    #print(err)\n",
    "    return A, B"
   ]
  },
  {
   "cell_type": "code",
   "execution_count": 138,
   "metadata": {},
   "outputs": [],
   "source": [
    "def tryThis():\n",
    "    U, V = implicitModel()\n",
    "    U = np.float64(U)\n",
    "    V = np.float64(V)\n",
    "    U = U.T\n",
    "    V = V.T\n",
    "    #U = np.array(U)\n",
    "    #V = np.array(V)\n",
    "    for i in range(len(V)):\n",
    "        V[i] = V[i] - mean(V[i])\n",
    "    for i in range(len(U)):\n",
    "        U[i] = U[i] - mean(U[i])\n",
    "    # SVD of V!\n",
    "    \n",
    "    A, B = SVDofV(V)\n",
    "    A = A.T\n",
    "    # Use the first 2 cols for work\n",
    "    Asub = A[:, :2]\n",
    "    \n",
    "    \n",
    "    projU = np.dot(Asub.T, U)\n",
    "    projV = np.dot(Asub.T, V)\n",
    "  \n",
    "    # Rescale dimensions to compress the image\n",
    "    for i in range(len(projV)):\n",
    "        projV[i] = projV[i] / max(projV[i])\n",
    "    for i in range(len(projU)):\n",
    "        projU[i] = projU[i] / max(projU[i])\n",
    "    dfTest = pd.read_csv('../data/test_clean.txt', sep=\"\\t\", header=None)\n",
    "    dfTest.columns = [\"User Id\", \"Movie Id\", \"Rating\"]\n",
    "    \n",
    "    Y_test = dfTest.to_numpy()\n",
    "    #print(\"U\")\n",
    "    #print(U.shape)\n",
    "    #print(\"V\")\n",
    "    #print(V.shape)\n",
    "    print(get_err2(U.T, V.T, Y_test))\n",
    "    print(get_err2(projU.T, projV.T, Y_test))\n",
    "    return projU, projV"
   ]
  },
  {
   "cell_type": "code",
   "execution_count": 139,
   "metadata": {},
   "outputs": [
    {
     "data": {
      "application/vnd.jupyter.widget-view+json": {
       "model_id": "d4f045e9f7cc4060b2fb8bc9ee022552",
       "version_major": 2,
       "version_minor": 0
      },
      "text/plain": [
       "HBox(children=(IntProgress(value=0, max=15), HTML(value='')))"
      ]
     },
     "metadata": {},
     "output_type": "display_data"
    },
    {
     "name": "stdout",
     "output_type": "stream",
     "text": [
      "\n",
      "Factorizing with  20  users,  1682  movies.\n",
      "(20, 1682)\n"
     ]
    },
    {
     "data": {
      "application/vnd.jupyter.widget-view+json": {
       "model_id": "f1ee3fe2359f47bf96fab7fa943df739",
       "version_major": 2,
       "version_minor": 0
      },
      "text/plain": [
       "HBox(children=(IntProgress(value=0, max=15), HTML(value='')))"
      ]
     },
     "metadata": {},
     "output_type": "display_data"
    },
    {
     "name": "stdout",
     "output_type": "stream",
     "text": [
      "\n",
      "(20, 20)\n",
      "(1682, 20)\n",
      "0.646397766848014\n",
      "0.7756178314604422\n"
     ]
    },
    {
     "data": {
      "text/plain": [
       "(array([[-0.25807119,  0.39476163,  0.02641284, ...,  0.56190481,\n",
       "          0.00191438,  0.08892812],\n",
       "        [ 0.30181367,  0.0574257 , -0.25590148, ..., -0.01830461,\n",
       "         -0.290183  ,  0.26845972]]),\n",
       " array([[ 0.84103163,  0.19674125,  0.09223882, ..., -0.07028266,\n",
       "         -0.05785874, -0.08226325],\n",
       "        [ 0.17302003,  0.05747411,  0.01518739, ..., -0.06969302,\n",
       "         -0.04807024, -0.04767191]]))"
      ]
     },
     "execution_count": 139,
     "metadata": {},
     "output_type": "execute_result"
    }
   ],
   "source": [
    "tryThis()"
   ]
  },
  {
   "cell_type": "code",
   "execution_count": null,
   "metadata": {},
   "outputs": [],
   "source": []
  }
 ],
 "metadata": {
  "kernelspec": {
   "display_name": "Python 3",
   "language": "python",
   "name": "python3"
  },
  "language_info": {
   "codemirror_mode": {
    "name": "ipython",
    "version": 3
   },
   "file_extension": ".py",
   "mimetype": "text/x-python",
   "name": "python",
   "nbconvert_exporter": "python",
   "pygments_lexer": "ipython3",
   "version": "3.7.4"
  }
 },
 "nbformat": 4,
 "nbformat_minor": 2
}
